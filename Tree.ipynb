{
 "cells": [
  {
   "cell_type": "code",
   "execution_count": 1,
   "id": "d3ed779e-81bd-4b2d-a600-52b5452cff74",
   "metadata": {},
   "outputs": [],
   "source": [
    "import os\n",
    "import sys \n",
    "import gc\n",
    "import  numpy as np\n",
    "import pandas as pd\n",
    "import patsy as pt\n",
    "import matplotlib\n",
    "import matplotlib.pyplot as plt\n",
    "from scipy import stats\n",
    "matplotlib.use('TkAgg')\n",
    "import statsmodels.api as sm\n",
    "import statsmodels.formula.api as smf\n",
    "from statsmodels.stats.diagnostic import het_breuschpagan #BP检验\n",
    "import xgboost as xgb\n",
    "import lightgbm as lgb\n",
    "from sklearn.ensemble import RandomForestRegressor\n",
    "from sklearn.model_selection import train_test_split\n",
    "from sklearn.metrics import mean_squared_error\n",
    "from sklearn.preprocessing import LabelEncoder"
   ]
  },
  {
   "cell_type": "markdown",
   "id": "cac697c8-86f6-469d-abfe-a6c0352f5fa6",
   "metadata": {},
   "source": [
    "# 读取数据"
   ]
  },
  {
   "cell_type": "code",
   "execution_count": 2,
   "id": "cac8f2f3-d220-4090-969d-3dfd98782588",
   "metadata": {},
   "outputs": [],
   "source": [
    "dataset_path = \"datasets/train/\"\n",
    "predict_data_path = \"datasets/test_example.csv\""
   ]
  },
  {
   "cell_type": "code",
   "execution_count": 3,
   "id": "c9459d89-4a79-40df-89ce-e201d706d958",
   "metadata": {},
   "outputs": [],
   "source": [
    "feats_uscols = [\"F\"+str(i) for i in range(1,33)]\n",
    "uscols = [\"Y\"] + feats_uscols\n",
    "dfs = []"
   ]
  },
  {
   "cell_type": "code",
   "execution_count": 4,
   "id": "37388d7c-6ad8-420b-ab71-e4f8ab50a96e",
   "metadata": {},
   "outputs": [],
   "source": [
    "for j in range(70):\n",
    "# for j in range(10):\n",
    "    path = dataset_path + \"data.{}.csv\".format(j)\n",
    "    dfs.append(pd.read_csv(path, delimiter=',', usecols=uscols))"
   ]
  },
  {
   "cell_type": "code",
   "execution_count": 5,
   "id": "9fe06ff0-f658-43bc-9541-dff27fb1811c",
   "metadata": {},
   "outputs": [],
   "source": [
    "# df_data.head()"
   ]
  },
  {
   "cell_type": "code",
   "execution_count": 6,
   "id": "46a82f04-61df-4bbd-b800-57574fd0f657",
   "metadata": {},
   "outputs": [],
   "source": [
    "# df_data = pd.concat(dfs)\n",
    "# df_train, df_test = train_test_split(df_data, test_size=0.2, random_state=0)"
   ]
  },
  {
   "cell_type": "code",
   "execution_count": 7,
   "id": "19864949-d356-4588-b9b7-2184b2d974e4",
   "metadata": {},
   "outputs": [],
   "source": [
    "df_train, df_test = pd.concat(dfs[:60]), pd.concat(dfs[60:])"
   ]
  },
  {
   "cell_type": "code",
   "execution_count": null,
   "id": "57bf5ca7-14a6-41e7-9f53-4e752554b2dd",
   "metadata": {},
   "outputs": [],
   "source": []
  },
  {
   "cell_type": "code",
   "execution_count": 8,
   "id": "069ebf15-e644-4d2d-b26c-8ed4c00ccb65",
   "metadata": {},
   "outputs": [],
   "source": [
    "df_example = pd.read_csv(predict_data_path, delimiter=',', usecols=feats_uscols)"
   ]
  },
  {
   "cell_type": "code",
   "execution_count": 9,
   "id": "26bfb74f-263d-45f4-b47c-5cd7144d1275",
   "metadata": {},
   "outputs": [],
   "source": [
    "# df_example.head()"
   ]
  },
  {
   "cell_type": "markdown",
   "id": "c7623c53-8bdd-45cf-a885-02594f4a7494",
   "metadata": {},
   "source": [
    "# 模型1：RF"
   ]
  },
  {
   "cell_type": "code",
   "execution_count": 10,
   "id": "688d1614-c5ff-4ca3-a415-81e79c210522",
   "metadata": {},
   "outputs": [],
   "source": [
    "def prediction(df_train, df_test, X_predict):\n",
    "    # X_train = df_train.drop(columns={'Y', 'C'})\n",
    "    X_train = df_train.drop(columns={'Y'})\n",
    "    y_train = df_train['Y']\n",
    "\n",
    "    # X_test = df_test.drop(columns={'Y', 'C'})\n",
    "    X_test = df_test.drop(columns={'Y'})\n",
    "    y_test = df_test['Y']\n",
    "\n",
    "    # forest = RandomForestRegressor(n_estimators=1000, criterion='squared_error', random_state=1, n_jobs=-1)\n",
    "    # forest = RandomForestRegressor(n_estimators=100, criterion='squared_error', random_state=1, n_jobs=-1)\n",
    "    forest = RandomForestRegressor(n_estimators=10, criterion='squared_error', random_state=1, n_jobs=-1)\n",
    "    forest.fit(X_train, y_train)\n",
    "\n",
    "    p_test = forest.predict(X_test)\n",
    "\n",
    "    mse = mean_squared_error(p_test, y_test)\n",
    "\n",
    "    print(\"mse: \", mse)\n",
    "    print(\"rmse: \", np.sqrt(mse))\n",
    "\n",
    "    # X_predict = X_predict.drop(columns={'C'})\n",
    "    y_test_pred = forest.predict(X_predict)\n",
    "\n",
    "    return y_test_pred"
   ]
  },
  {
   "cell_type": "code",
   "execution_count": 11,
   "id": "4f4ff52a-7515-40a0-9850-6e028772a3ec",
   "metadata": {},
   "outputs": [
    {
     "name": "stdout",
     "output_type": "stream",
     "text": [
      "mse:  0.06128938601236784\n",
      "rmse:  0.2475669323887337\n"
     ]
    },
    {
     "data": {
      "text/plain": [
       "array([-0.0753,  0.0097])"
      ]
     },
     "execution_count": 11,
     "metadata": {},
     "output_type": "execute_result"
    }
   ],
   "source": [
    "res = prediction(df_train, df_test, df_example)\n",
    "res "
   ]
  },
  {
   "cell_type": "markdown",
   "id": "cb7e870b-ee3f-4265-bab4-4e13bd714dfc",
   "metadata": {},
   "source": [
    "# 模型2：lgb"
   ]
  },
  {
   "cell_type": "code",
   "execution_count": 12,
   "id": "4651b7cd-7ae4-49f1-9efc-0b27ecb76199",
   "metadata": {},
   "outputs": [
    {
     "name": "stdout",
     "output_type": "stream",
     "text": [
      "(834286, 31) (834286,)\n"
     ]
    }
   ],
   "source": [
    "df_train.fillna(df_train.median(),inplace = True)\n",
    "x_train = df_train.drop(['F17','Y'], axis=1)\n",
    "y_train = df_train['Y'].values\n",
    "x_example = df_example.drop(['F17'], axis=1)\n",
    "print(x_train.shape, y_train.shape)"
   ]
  },
  {
   "cell_type": "code",
   "execution_count": 13,
   "id": "ba8bc796-86c3-4673-be1c-77ef98914471",
   "metadata": {},
   "outputs": [],
   "source": [
    "# del df_train; gc.collect()\n",
    "x_train = x_train.values.astype(np.float32, copy=False)\n",
    "d_train = lgb.Dataset(x_train, label=y_train)"
   ]
  },
  {
   "cell_type": "code",
   "execution_count": 14,
   "id": "427d55ae-56fa-45e1-ba66-191257b3df10",
   "metadata": {},
   "outputs": [
    {
     "name": "stdout",
     "output_type": "stream",
     "text": [
      "Fitting LightGBM model\n",
      "\n"
     ]
    }
   ],
   "source": [
    "params = {}\n",
    "params['max_bin'] = 10\n",
    "params['learning_rate'] = 0.0021\n",
    "params['boosting_type'] = 'gbdt'\n",
    "params['objective'] = 'regression'\n",
    "params['metric'] = 'l1'          \n",
    "params['sub_feature'] = 0.5      \n",
    "params['bagging_fraction'] = 0.85 \n",
    "params['bagging_freq'] = 40\n",
    "params['num_leaves'] = 512        \n",
    "params['min_data'] = 500         \n",
    "params['min_hessian'] = 0.05     \n",
    "params['verbose'] = 0\n",
    "\n",
    "print(\"Fitting LightGBM model\\n\")\n"
   ]
  },
  {
   "cell_type": "code",
   "execution_count": 15,
   "id": "1568f546-9234-4fec-a643-355e892495f6",
   "metadata": {},
   "outputs": [],
   "source": [
    "#model = lgb.train(params, d_train, 430)\n",
    "model = lgb.Booster(model_file='lgbm_model.mdl')\n",
    "#model.save_model('lgbm_model.mdl')"
   ]
  },
  {
   "cell_type": "code",
   "execution_count": 26,
   "id": "f048ca0a-a5b2-47a6-b4b9-3b51c8d6c47b",
   "metadata": {},
   "outputs": [
    {
     "name": "stdout",
     "output_type": "stream",
     "text": [
      "mse:  0.055099930701335856\n",
      "rmse:  0.23473374427494623\n"
     ]
    }
   ],
   "source": [
    "# path = \"./train/data.69.csv\"\n",
    "# path = \"../yujin/train/train/data.69.csv\"\n",
    "# df_test = pd.read_csv(path, delimiter=',', usecols=uscols)\n",
    "x_test = df_test.drop(['F17','Y'], axis=1)\n",
    "y_test = df_test['Y'].values\n",
    "p_test = model.predict(x_test)\n",
    "# del x_test; gc.collect()\n",
    "\n",
    "mse = mean_squared_error(p_test, y_test)\n",
    "\n",
    "print(\"mse: \", mse)\n",
    "print(\"rmse: \", np.sqrt(mse))"
   ]
  },
  {
   "cell_type": "code",
   "execution_count": 17,
   "id": "e7300a48-5910-4498-9c89-6f9c4372b31a",
   "metadata": {},
   "outputs": [
    {
     "data": {
      "text/plain": [
       "array([-0.00531805,  0.00087267])"
      ]
     },
     "execution_count": 17,
     "metadata": {},
     "output_type": "execute_result"
    }
   ],
   "source": [
    "model.predict(x_example)"
   ]
  },
  {
   "cell_type": "markdown",
   "id": "7a217a50-a03f-404d-b222-ed9b51014a38",
   "metadata": {},
   "source": [
    "# 模型3: fwls "
   ]
  },
  {
   "cell_type": "code",
   "execution_count": 24,
   "id": "db1a25fa-c45d-4b08-84a5-a75d1bb73e3b",
   "metadata": {},
   "outputs": [],
   "source": [
    "def prediction(data_example, df_test, X_test):\n",
    "    ## train \n",
    "    X_list = '+'.join(data_example.columns[1:-1])\n",
    "    # OLS:\n",
    "    reg_ols = smf.ols(formula='Y ~ ' + X_list, data=data_example)\n",
    "    results_ols = reg_ols.fit()\n",
    "    \n",
    "    # log(残差平方)对自变量做回归\n",
    "    data_example['loge2'] = np.log(results_ols.resid ** 2)\n",
    "\n",
    "    reg_loge2 = smf.ols(formula='loge2 ~ ' + X_list, data=data_example)\n",
    "    # reg_loge2 = smf.ols(formula='loge2 ~ ' + X_list, data=data_train)\n",
    "\n",
    "    results_loge2 = reg_loge2.fit()\n",
    "\n",
    "    # FWLS\n",
    "    wls_weight = list(1 / np.exp(results_loge2.fittedvalues))\n",
    "    reg_wls = smf.wls(formula='Y ~ ' + X_list, weights=wls_weight, data=data_example)\n",
    "    # reg_wls = smf.wls(formula='Y ~ ' + X_list, weights=wls_weight, data=data_train)\n",
    "\n",
    "    results_wls = reg_wls.fit()\n",
    "\n",
    "    \n",
    "    ## test \n",
    "    data_test_x = df_test.drop(columns = {'Y'})\n",
    "    data_test_y = df_test['Y']\n",
    "    \n",
    "    p_test = results_wls.predict(data_test_x)\n",
    "    mse = mean_squared_error(p_test, data_test_y)\n",
    "\n",
    "    print(\"mse: \", mse)\n",
    "    print(\"rmse: \", np.sqrt(mse))\n",
    "\n",
    "    prediction_value = results_wls.predict(X_test)\n",
    "    return prediction_value"
   ]
  },
  {
   "cell_type": "code",
   "execution_count": 25,
   "id": "79a37953-7077-435e-b096-794fe42c5f8e",
   "metadata": {},
   "outputs": [
    {
     "name": "stdout",
     "output_type": "stream",
     "text": [
      "mse:  0.055558880999184976\n",
      "rmse:  0.23570931462117695\n"
     ]
    }
   ],
   "source": [
    "res = prediction(df_train, df_test, X_test=df_example) \n"
   ]
  },
  {
   "cell_type": "code",
   "execution_count": null,
   "id": "c6271c2b-226b-417d-8717-fe52e333d6dd",
   "metadata": {},
   "outputs": [],
   "source": []
  },
  {
   "cell_type": "code",
   "execution_count": null,
   "id": "9e97cfd0-9e55-41ad-a98f-af404f24dcf7",
   "metadata": {},
   "outputs": [],
   "source": []
  },
  {
   "cell_type": "code",
   "execution_count": null,
   "id": "6915ed02-a5d8-4990-9ec6-095a738ba210",
   "metadata": {},
   "outputs": [],
   "source": []
  },
  {
   "cell_type": "code",
   "execution_count": null,
   "id": "017d66e9-145a-4c74-96cf-ae5933f75a17",
   "metadata": {},
   "outputs": [],
   "source": []
  }
 ],
 "metadata": {
  "kernelspec": {
   "display_name": "Python 3 (ipykernel)",
   "language": "python",
   "name": "python3"
  },
  "language_info": {
   "codemirror_mode": {
    "name": "ipython",
    "version": 3
   },
   "file_extension": ".py",
   "mimetype": "text/x-python",
   "name": "python",
   "nbconvert_exporter": "python",
   "pygments_lexer": "ipython3",
   "version": "3.11.7"
  }
 },
 "nbformat": 4,
 "nbformat_minor": 5
}
